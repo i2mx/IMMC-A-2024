{
 "cells": [
  {
   "cell_type": "code",
   "execution_count": 102,
   "metadata": {},
   "outputs": [],
   "source": [
    "import math\n",
    "import numpy as np\n",
    "from scipy.stats import norm\n",
    "import matplotlib.pyplot as plt\n",
    "from functools import reduce"
   ]
  },
  {
   "cell_type": "code",
   "execution_count": 103,
   "metadata": {},
   "outputs": [],
   "source": [
    "# --- PARAMETERS ---\n",
    "\n",
    "# Pet type they want to adopt\n",
    "pet_type = \"Cat\"\n",
    "\n",
    "# Control\n",
    "population_density = 2500\n",
    "cost_of_living = 70000\n",
    "\n",
    "space_need_cat = 2\n",
    "space_need_bird = 1\n",
    "space_need_dog = 7\n",
    "space_need_lizard = 1\n",
    "space_need_fish = 0.2\n",
    "\n",
    "time_need_cat = 2\n",
    "time_need_bird = 1\n",
    "time_need_dog = 3\n",
    "time_need_lizard = 1.5\n",
    "time_need_fish = 1\n",
    "\n",
    "\n",
    "# Constants\n",
    "free_time_std = 2\n",
    "furniture_percentage = 0.6\n",
    "space_per_person = 20\n",
    "\n",
    "\n",
    "# Amount of pets already owned\n",
    "amount_owned_cat = 0\n",
    "amount_owned_bird = 0\n",
    "amount_owned_dog = 0\n",
    "amount_owned_lizard = 0\n",
    "amount_owned_fish = 0\n",
    "\n",
    "# Parameters\n",
    "household_income = 100000\n",
    "people_in_household = 2\n",
    "# amount_already_owned = 0\n",
    "owner_freetime = 3.5\n",
    "floor_area = 160\n",
    "outside_area = 560\n"
   ]
  },
  {
   "cell_type": "code",
   "execution_count": 104,
   "metadata": {},
   "outputs": [],
   "source": [
    "# Constant calculation\n",
    "required_income = cost_of_living + 50000\n",
    "income_steepness = 0.00005\n",
    "\n",
    "space_median = -0.00559007*population_density + 26.1558\n",
    "space_steepness = 0.0000275031*population_density + 0.0702201\n",
    "\n",
    "time_needed_already = amount_owned_cat*time_need_cat + amount_owned_bird*time_need_bird + amount_owned_dog*time_need_dog + amount_owned_lizard*time_need_lizard + amount_owned_fish*time_need_fish \n",
    "space_need_already = amount_owned_cat*space_need_cat + amount_owned_bird*space_need_bird + amount_owned_dog*space_need_dog + amount_owned_lizard*space_need_lizard + amount_owned_fish*space_need_fish "
   ]
  },
  {
   "cell_type": "code",
   "execution_count": 105,
   "metadata": {},
   "outputs": [],
   "source": [
    "# INCOME INDEX\n",
    "def income_index(income):\n",
    "    return 1 / (1 + math.exp(-income_steepness*(income-required_income)))"
   ]
  },
  {
   "cell_type": "code",
   "execution_count": 106,
   "metadata": {},
   "outputs": [
    {
     "data": {
      "text/plain": [
       "[<matplotlib.lines.Line2D at 0x134754ad0>]"
      ]
     },
     "execution_count": 106,
     "metadata": {},
     "output_type": "execute_result"
    },
    {
     "data": {
      "image/png": "[encoded data removed]",
      "text/plain": [
       "<Figure size 640x480 with 1 Axes>"
      ]
     },
     "metadata": {},
     "output_type": "display_data"
    }
   ],
   "source": [
    "# PLOT\n",
    "X = np.arange(0,300_000, 1_000)\n",
    "Y = np.array([income_index(x) for x in X])\n",
    "\n",
    "plt.grid()\n",
    "plt.title(\"Income\")\n",
    "plt.xlabel(\"Household Income less Expenses (000$)\")\n",
    "plt.ylabel(\"Income Index\")\n",
    "plt.plot(X/1_000,Y)"
   ]
  },
  {
   "cell_type": "code",
   "execution_count": 107,
   "metadata": {},
   "outputs": [],
   "source": [
    "# TIME INDEX\n",
    "# Cat\n",
    "def time_index_cat(owner_freetime):\n",
    "    net_time = owner_freetime - time_needed_already\n",
    "    z = (net_time - time_need_cat) / free_time_std\n",
    "    return norm.cdf(z)\n",
    "\n",
    "# Bird\n",
    "def time_index_bird(owner_freetime):\n",
    "    net_time = owner_freetime - time_needed_already\n",
    "    z = (net_time - time_need_bird) / free_time_std\n",
    "    return norm.cdf(z)\n",
    "\n",
    "# Dog\n",
    "def time_index_dog(owner_freetime):\n",
    "    net_time = owner_freetime - time_needed_already\n",
    "    z = (net_time - time_need_dog) / free_time_std\n",
    "    return norm.cdf(z)\n",
    "\n",
    "# Lizard\n",
    "def time_index_lizard(owner_freetime):\n",
    "    net_time = owner_freetime - time_needed_already\n",
    "    z = (net_time - time_need_lizard) / free_time_std\n",
    "    return norm.cdf(z)\n",
    "\n",
    "# Fish\n",
    "def time_index_fish(owner_freetime):\n",
    "    net_time = owner_freetime - time_needed_already\n",
    "    z = (net_time - time_need_fish) / free_time_std\n",
    "    return norm.cdf(z)"
   ]
  },
  {
   "cell_type": "code",
   "execution_count": 108,
   "metadata": {},
   "outputs": [],
   "source": [
    "# SPACE INDEX\n",
    "\n",
    "# Cat\n",
    "def get_space_ratio_cat(floor_area, outside_area, people_in_household):\n",
    "    human_space = furniture_percentage * floor_area + 10*math.log10(outside_area+1) - space_per_person*people_in_household - space_need_already - space_need_cat\n",
    "    # space = 0.6 * floor_area + 10 * math.log10(outside_area + 1) \n",
    "    space_ratio = human_space / space_need_cat\n",
    "\n",
    "    return space_ratio\n",
    "\n",
    "def get_space_index_cat(floor_area, outside_area, people_in_household):\n",
    "    ratio = get_space_ratio_cat(floor_area, outside_area, people_in_household)\n",
    "    \n",
    "    return 1/(1+math.exp(-space_steepness*(ratio-space_median)))\n",
    "\n",
    "# Bird\n",
    "def get_space_ratio_bird(floor_area, outside_area, people_in_household):\n",
    "    human_space = furniture_percentage * floor_area + 10*math.log10(outside_area+1) - space_per_person*people_in_household - space_need_already - space_need_bird\n",
    "    # space = 0.6 * floor_area + 10 * math.log10(outside_area + 1) \n",
    "    space_ratio = human_space / space_need_bird\n",
    "\n",
    "    return space_ratio\n",
    "\n",
    "def get_space_index_bird(floor_area, outside_area, people_in_household):\n",
    "    ratio = get_space_ratio_bird(floor_area, outside_area, people_in_household)\n",
    "    \n",
    "    return 1/(1+math.exp(-space_steepness*(ratio-space_median)))\n",
    "\n",
    "# Dog\n",
    "def get_space_ratio_dog(floor_area, outside_area, people_in_household):\n",
    "    human_space = furniture_percentage * floor_area + 10*math.log10(outside_area+1) - space_per_person*people_in_household - space_need_already - space_need_dog\n",
    "    # space = 0.6 * floor_area + 10 * math.log10(outside_area + 1) \n",
    "    space_ratio = human_space / space_need_dog\n",
    "\n",
    "    return space_ratio\n",
    "\n",
    "def get_space_index_dog(floor_area, outside_area, people_in_household):\n",
    "    ratio = get_space_ratio_dog(floor_area, outside_area, people_in_household)\n",
    "    \n",
    "    return 1/(1+math.exp(-space_steepness*(ratio-space_median)))\n",
    "\n",
    "\n",
    "# Lizard\n",
    "def get_space_ratio_lizard(floor_area, outside_area, people_in_household):\n",
    "    human_space = furniture_percentage * floor_area + 10*math.log10(outside_area+1) - space_per_person*people_in_household - space_need_already - space_need_lizard\n",
    "    # space = 0.6 * floor_area + 10 * math.log10(outside_area + 1) \n",
    "    space_ratio = human_space / space_need_lizard\n",
    "\n",
    "    return space_ratio\n",
    "\n",
    "def get_space_index_lizard(floor_area, outside_area, people_in_household):\n",
    "    ratio = get_space_ratio_lizard(floor_area, outside_area, people_in_household)\n",
    "    \n",
    "    return 1/(1+math.exp(-space_steepness*(ratio-space_median)))\n",
    "\n",
    "# Fish\n",
    "def get_space_ratio_fish(floor_area, outside_area, people_in_household):\n",
    "    human_space = furniture_percentage * floor_area + 10*math.log10(outside_area+1) - space_per_person*people_in_household - space_need_already - space_need_fish\n",
    "    # space = 0.6 * floor_area + 10 * math.log10(outside_area + 1) \n",
    "    space_ratio = human_space / space_need_fish\n",
    "\n",
    "    return space_ratio\n",
    "\n",
    "def get_space_index_fish(floor_area, outside_area, people_in_household):\n",
    "    ratio = get_space_ratio_fish(floor_area, outside_area, people_in_household)\n",
    "\n",
    "    return 1/(1+math.exp(-space_steepness*(ratio-space_median)))"
   ]
  },
  {
   "cell_type": "code",
   "execution_count": 109,
   "metadata": {},
   "outputs": [
    {
     "name": "stdout",
     "output_type": "stream",
     "text": [
      "0.2689414213699951 0.7733726476231317 0.9814723497365226\n",
      "0.588809566752596\n"
     ]
    }
   ],
   "source": [
    "# OUTPUTTING GM\n",
    "\n",
    "income_index = income_index(household_income)\n",
    "\n",
    "if pet_type == \"Cat\":\n",
    "    time_index = time_index_cat(owner_freetime)\n",
    "    space_index = get_space_index_cat(floor_area, outside_area, people_in_household)\n",
    "elif pet_type == \"Bird\":\n",
    "    time_index = time_index_bird(owner_freetime)\n",
    "    space_index = get_space_index_bird(floor_area, outside_area, people_in_household)\n",
    "elif pet_type == \"Dog\":\n",
    "    time_index = time_index_dog(owner_freetime)\n",
    "    space_index = get_space_index_dog(floor_area, outside_area, people_in_household)\n",
    "elif pet_type == \"Lizard\":\n",
    "    time_index = time_index_lizard(owner_freetime)\n",
    "    space_index = get_space_index_lizard(floor_area, outside_area, people_in_household)\n",
    "elif pet_type == \"Fish\":\n",
    "    time_index = time_index_fish(owner_freetime)\n",
    "    space_index = get_space_index_fish(floor_area, outside_area, people_in_household)\n",
    "\n",
    "print(income_index, time_index, space_index)\n",
    "\n",
    "PFI = income_index ** (1/3) * time_index ** (1/3) * space_index ** (1/3) \n",
    "print(PFI)"
   ]
  }
 ],
 "metadata": {
  "kernelspec": {
   "display_name": "base",
   "language": "python",
   "name": "python3"
  },
  "language_info": {
   "codemirror_mode": {
    "name": "ipython",
    "version": 3
   },
   "file_extension": ".py",
   "mimetype": "text/x-python",
   "name": "python",
   "nbconvert_exporter": "python",
   "pygments_lexer": "ipython3",
   "version": "3.11.5"
  }
 },
 "nbformat": 4,
 "nbformat_minor": 2
}
