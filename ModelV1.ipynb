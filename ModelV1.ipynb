{
 "cells": [
  {
   "cell_type": "code",
   "execution_count": 49,
   "metadata": {},
   "outputs": [],
   "source": [
    "import math\n",
    "import numpy as np\n",
    "from scipy.stats import norm\n",
    "import matplotlib.pyplot as plt\n",
    "from functools import reduce"
   ]
  },
  {
   "cell_type": "code",
   "execution_count": 50,
   "metadata": {},
   "outputs": [],
   "source": [
    "# --- PARAMETERS ---\n",
    "\n",
    "# Pet type they want to adopt\n",
    "pet_type = \"Cat\"\n",
    "\n",
    "# Control\n",
    "population_density = 2.5\n",
    "space_need_cat = 2\n",
    "# space_need_bird = 10000\n",
    "# space_need_dog = 10000\n",
    "# space_need_lizard = 10000\n",
    "# space_need_fish = 10000\n",
    "\n",
    "# Constants\n",
    "free_time_std = 1\n",
    "furniture_percentage = 0.6\n",
    "space_per_person = 20\n",
    "time_need_cat = 2\n",
    "# time_need_bird = 2\n",
    "# time_need_dog = 2\n",
    "# time_need_lizard = 2\n",
    "# time_need_fish = 2\n",
    "\n",
    "\n",
    "# Parameters\n",
    "household_income = 80000\n",
    "people_in_household = 4\n",
    "# amount_already_owned = 0\n",
    "owner_freetime = 5\n",
    "floor_area = 300\n",
    "outside_area = 10000\n"
   ]
  },
  {
   "cell_type": "code",
   "execution_count": 51,
   "metadata": {},
   "outputs": [],
   "source": [
    "# Constant calculation\n",
    "required_income = 9947.81 * math.log10(3.7968e7 * population_density)\n",
    "income_steepness = 0.0000049739 * math.log10(370620 * population_density)\n",
    "\n",
    "space_median = -0.00559007*population_density + 26.1558\n",
    "space_steepness = 0.0000275031*population_density + 0.0702201"
   ]
  },
  {
   "cell_type": "code",
   "execution_count": 52,
   "metadata": {},
   "outputs": [],
   "source": [
    "# INCOME INDEX\n",
    "def income_index(income):\n",
    "    return 1 / (1 + math.exp(-income_steepness*(income-required_income)))"
   ]
  },
  {
   "cell_type": "code",
   "execution_count": 53,
   "metadata": {},
   "outputs": [],
   "source": [
    "# TIME INDEX\n",
    "def time_index_cat(owner_freetime):\n",
    "    z = (owner_freetime - time_need_cat) / free_time_std\n",
    "    return norm.cdf(z)"
   ]
  },
  {
   "cell_type": "code",
   "execution_count": 54,
   "metadata": {},
   "outputs": [],
   "source": [
    "# SPACE INDEX\n",
    "\n",
    "def get_space_ratio_cat(floor_area, outside_area, people_in_household):\n",
    "    human_space = furniture_percentage * floor_area + 10*math.log10(outside_area+1) - space_per_person*people_in_household - space_need_cat\n",
    "    # space = 0.6 * floor_area + 10 * math.log10(outside_area + 1) \n",
    "    space_ratio = human_space / space_need_cat\n",
    "\n",
    "    return space_ratio\n",
    "\n",
    "def get_space_index_cat(floor_area, outside_area, people_in_household):\n",
    "    ratio = get_space_ratio_cat(floor_area, outside_area, people_in_household)\n",
    "    \n",
    "    return 1/(1+math.exp(-space_steepness*(ratio-space_median)))"
   ]
  },
  {
   "cell_type": "code",
   "execution_count": 55,
   "metadata": {},
   "outputs": [
    {
     "name": "stdout",
     "output_type": "stream",
     "text": [
      "0.7832252303071857\n"
     ]
    }
   ],
   "source": [
    "# OUTPUTTING GM\n",
    "\n",
    "income_index = income_index(household_income)\n",
    "\n",
    "if pet_type == \"Cat\":\n",
    "    time_index = time_index_cat(owner_freetime)\n",
    "    space_index = get_space_index_cat(floor_area, outside_area, people_in_household)\n",
    "elif pet_type == \"Bird\":\n",
    "    pass\n",
    "elif pet_type == \"Dog\":\n",
    "    pass\n",
    "elif pet_type == \"Lizard\":\n",
    "    pass\n",
    "elif pet_type == \"Fish\":\n",
    "    pass\n",
    "\n",
    "PFI = income_index ** (1/3) * time_index ** (1/3) * space_index ** (1/3) \n",
    "print(PFI)"
   ]
  }
 ],
 "metadata": {
  "kernelspec": {
   "display_name": "base",
   "language": "python",
   "name": "python3"
  },
  "language_info": {
   "codemirror_mode": {
    "name": "ipython",
    "version": 3
   },
   "file_extension": ".py",
   "mimetype": "text/x-python",
   "name": "python",
   "nbconvert_exporter": "python",
   "pygments_lexer": "ipython3",
   "version": "3.11.5"
  }
 },
 "nbformat": 4,
 "nbformat_minor": 2
}
